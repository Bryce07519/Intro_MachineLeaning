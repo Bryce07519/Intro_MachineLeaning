{
 "cells": [
  {
   "attachments": {},
   "cell_type": "markdown",
   "metadata": {},
   "source": [
    "# Lecture 4: Data Preprocessing\n",
    "\n",
    "\n",
    "\n",
    "This notebook provides a comprehensive guide on implementing Data Preprocessing using pandas libraries.\n",
    "\n",
    "By: Bryce Li, NUS"
   ]
  },
  {
   "attachments": {},
   "cell_type": "markdown",
   "metadata": {},
   "source": [
    "## Handling Missing Values :\n",
    "\n",
    "Refer to lecture 3"
   ]
  },
  {
   "attachments": {},
   "cell_type": "markdown",
   "metadata": {},
   "source": [
    "## Feature Scaling: Standardization and normalization:\n",
    "Normalization is a form of standardization.\n",
    "Normalization maps data into the interval [0,1].\n",
    "Normalization is the process of scaling data to fit into a specific interval.\n",
    "The standardized data has a mean of 0 and a standard deviation equal to 1, so the standardized data can be positive or negative.\n",
    "Normalized data does not work well if the original data does not conform to a Gaussian distribution. (The reason for normalization is that if the variance of some features is too large, it will dominate the objective function and prevent the parameter estimator from learning other features correctly.)\n",
    "\n"
   ]
  },
  {
   "attachments": {},
   "cell_type": "markdown",
   "metadata": {},
   "source": []
  },
  {
   "cell_type": "code",
   "execution_count": 1,
   "metadata": {},
   "outputs": [],
   "source": [
    "from sklearn.preprocessing import StandardScaler\n",
    "from sklearn.preprocessing import MinMaxScaler\n",
    "from matplotlib import gridspec\n",
    "import numpy as np\n",
    "import matplotlib.pyplot as plt"
   ]
  },
  {
   "attachments": {},
   "cell_type": "markdown",
   "metadata": {},
   "source": [
    "### Standardize data and inverse transformation  using sklearn\n",
    "\n",
    "The process of Standard transformation is divided into two steps.\n",
    "\n",
    "* Decentering of the mean (mean becomes 0).\n",
    "* Scaling of the variance (variance becomes 1).\n",
    "\n",
    "\n",
    "Each column is standardized to the standard normal distribution, note that the standardization is done for each column."
   ]
  },
  {
   "cell_type": "code",
   "execution_count": 2,
   "metadata": {},
   "outputs": [],
   "source": [
    "data=np.random.randn(30,4)*3+1"
   ]
  },
  {
   "cell_type": "code",
   "execution_count": 13,
   "metadata": {},
   "outputs": [],
   "source": [
    "test=np.ones_like(data)"
   ]
  },
  {
   "cell_type": "code",
   "execution_count": 3,
   "metadata": {},
   "outputs": [
    {
     "data": {
      "text/plain": [
       "array([[ 4.61539517,  4.41308256, -0.45087839,  1.49878493],\n",
       "       [ 1.88516859, -2.72906402,  0.07017083,  0.68884122],\n",
       "       [ 1.60693515, -2.65570315,  2.69213097, -1.05739389],\n",
       "       [-0.98426342, -4.50089414,  6.61326432,  2.36065995],\n",
       "       [ 2.53235772,  4.75477351,  5.03154741, -0.59098458],\n",
       "       [-2.8614901 ,  5.85701592,  4.93241544,  0.66489232],\n",
       "       [ 5.00826628,  2.12741316,  4.63774227, -1.09069319],\n",
       "       [ 1.83013389,  3.03540086,  2.27335483,  2.55945285],\n",
       "       [-2.11905913, -0.65521443,  0.85035382,  0.81278775],\n",
       "       [-1.09351338,  2.66097751, -1.08676823, -0.70108391],\n",
       "       [-0.90419068,  2.31293675,  0.32092025, -1.87453126],\n",
       "       [ 0.32365563, -1.62971715,  5.64478639, -1.60059366],\n",
       "       [ 0.74699248,  0.50637051, 10.11050027,  6.30251949],\n",
       "       [ 2.80972722, -1.44211919, -3.17432683,  1.08569197],\n",
       "       [ 3.21553667, -0.73383204,  1.60418646, -0.02447512],\n",
       "       [-1.06892332,  3.55750405,  4.94758798,  6.98948862],\n",
       "       [ 0.09111504, -1.77863688,  2.299106  ,  2.56371976],\n",
       "       [ 2.46210925,  1.66699833,  4.87455857,  6.15642576],\n",
       "       [ 1.72641901,  3.6267974 ,  0.59148622, -0.26451809],\n",
       "       [-2.06412635, -6.08413463, -0.44745193, -3.13767585],\n",
       "       [-4.69113161, -4.51516743,  5.91427884,  5.73953788],\n",
       "       [ 1.74380459,  2.44623752,  3.27691572, -0.3571113 ],\n",
       "       [ 6.12646563,  0.50890813, -1.21132572,  5.17987451],\n",
       "       [-1.17423274,  1.79060009,  1.2515015 ,  3.48182317],\n",
       "       [ 3.81218542,  7.40665645, -0.51113459,  2.14262942],\n",
       "       [-1.41607663,  2.74526634, -1.52013574, -0.28652142],\n",
       "       [ 1.30907054, -7.62163233,  3.52668867, -3.72018168],\n",
       "       [-1.26789652,  2.27007215,  1.7259635 , -1.47261492],\n",
       "       [ 4.73263058,  1.96859701, -1.58130093,  1.88762929],\n",
       "       [ 3.99094117,  5.12239121,  4.73818298,  5.55854587]])"
      ]
     },
     "execution_count": 3,
     "metadata": {},
     "output_type": "execute_result"
    }
   ],
   "source": [
    "data"
   ]
  },
  {
   "cell_type": "code",
   "execution_count": 4,
   "metadata": {},
   "outputs": [
    {
     "data": {
      "text/plain": [
       "array([2.5920568 , 3.5484062 , 2.98965187, 2.85473577])"
      ]
     },
     "execution_count": 4,
     "metadata": {},
     "output_type": "execute_result"
    }
   ],
   "source": [
    "data.std(axis=0)"
   ]
  },
  {
   "cell_type": "code",
   "execution_count": 5,
   "metadata": {},
   "outputs": [],
   "source": [
    "std = StandardScaler()"
   ]
  },
  {
   "cell_type": "code",
   "execution_count": 6,
   "metadata": {},
   "outputs": [],
   "source": [
    "data_n=std.fit_transform(data)"
   ]
  },
  {
   "cell_type": "code",
   "execution_count": 7,
   "metadata": {},
   "outputs": [
    {
     "data": {
      "text/plain": [
       "array([[ 1.38291529,  1.0141698 , -0.90836298,  0.06385438],\n",
       "       [ 0.32961021, -0.99860612, -0.73407873, -0.21986494],\n",
       "       [ 0.22226942, -0.9779318 ,  0.14293312, -0.83156257],\n",
       "       [-0.77739949, -1.49793737,  1.45450166,  0.365765  ],\n",
       "       [ 0.5792919 ,  1.11046401,  0.92543775, -0.66818167],\n",
       "       [-1.50162231,  1.42109429,  0.89227939, -0.22825412],\n",
       "       [ 1.53448261,  0.37003008,  0.79371501, -0.84322716],\n",
       "       [ 0.30837815,  0.62591614,  0.0028579 ,  0.43540118],\n",
       "       [-1.21519688, -0.41416075, -0.47311758, -0.17644708],\n",
       "       [-0.81954747,  0.5203974 , -1.12105993, -0.70674893],\n",
       "       [-0.7465079 ,  0.42231372, -0.65020629, -1.1178018 ],\n",
       "       [-0.27281214, -0.68879185,  1.13055828, -1.0218428 ],\n",
       "       [-0.10949132, -0.08680676,  2.62428199,  1.74657915],\n",
       "       [ 0.68629939, -0.63592362, -1.81932136, -0.08085006],\n",
       "       [ 0.84285825, -0.4363165 , -0.22097029, -0.46973617],\n",
       "       [-0.81006077,  0.77305352,  0.89735441,  1.98722108],\n",
       "       [-0.36252491, -0.73075992,  0.01147134,  0.43689586],\n",
       "       [ 0.55219046,  0.24027751,  0.87292701,  1.69540323],\n",
       "       [ 0.26836557,  0.79258154, -0.55970546, -0.55382205],\n",
       "       [-1.19400414, -1.94412093, -0.90721687, -1.56027519],\n",
       "       [-2.20748705, -1.50195983,  1.22070003,  1.54936944],\n",
       "       [ 0.27507283,  0.4598801 ,  0.33853608, -0.586257  ],\n",
       "       [ 1.96587723, -0.08609161, -1.16272281,  1.35332209],\n",
       "       [-0.85068852,  0.27511054, -0.33893886,  0.758503  ],\n",
       "       [ 1.07304177,  1.85780881, -0.9285179 ,  0.28938997],\n",
       "       [-0.94399044,  0.5441514 , -1.26601578, -0.56152971],\n",
       "       [ 0.10735503, -2.3774134 ,  0.42208191, -1.76432414],\n",
       "       [-0.88682344,  0.41023376, -0.18023744, -0.97701247],\n",
       "       [ 1.42814401,  0.32527304, -1.28647474,  0.20006467],\n",
       "       [ 1.14200467,  1.2140648 ,  0.82731113,  1.48596882]])"
      ]
     },
     "execution_count": 7,
     "metadata": {},
     "output_type": "execute_result"
    }
   ],
   "source": [
    "data_n"
   ]
  },
  {
   "cell_type": "code",
   "execution_count": 8,
   "metadata": {},
   "outputs": [
    {
     "data": {
      "text/plain": [
       "array([1., 1., 1., 1.])"
      ]
     },
     "execution_count": 8,
     "metadata": {},
     "output_type": "execute_result"
    }
   ],
   "source": [
    "data_n.std(axis=0)"
   ]
  },
  {
   "cell_type": "code",
   "execution_count": 9,
   "metadata": {},
   "outputs": [],
   "source": [
    "oringin_data=std.inverse_transform(data_n)"
   ]
  },
  {
   "cell_type": "code",
   "execution_count": 10,
   "metadata": {},
   "outputs": [
    {
     "data": {
      "text/plain": [
       "array([[ 4.61539517,  4.41308256, -0.45087839,  1.49878493],\n",
       "       [ 1.88516859, -2.72906402,  0.07017083,  0.68884122],\n",
       "       [ 1.60693515, -2.65570315,  2.69213097, -1.05739389],\n",
       "       [-0.98426342, -4.50089414,  6.61326432,  2.36065995],\n",
       "       [ 2.53235772,  4.75477351,  5.03154741, -0.59098458],\n",
       "       [-2.8614901 ,  5.85701592,  4.93241544,  0.66489232],\n",
       "       [ 5.00826628,  2.12741316,  4.63774227, -1.09069319],\n",
       "       [ 1.83013389,  3.03540086,  2.27335483,  2.55945285],\n",
       "       [-2.11905913, -0.65521443,  0.85035382,  0.81278775],\n",
       "       [-1.09351338,  2.66097751, -1.08676823, -0.70108391],\n",
       "       [-0.90419068,  2.31293675,  0.32092025, -1.87453126],\n",
       "       [ 0.32365563, -1.62971715,  5.64478639, -1.60059366],\n",
       "       [ 0.74699248,  0.50637051, 10.11050027,  6.30251949],\n",
       "       [ 2.80972722, -1.44211919, -3.17432683,  1.08569197],\n",
       "       [ 3.21553667, -0.73383204,  1.60418646, -0.02447512],\n",
       "       [-1.06892332,  3.55750405,  4.94758798,  6.98948862],\n",
       "       [ 0.09111504, -1.77863688,  2.299106  ,  2.56371976],\n",
       "       [ 2.46210925,  1.66699833,  4.87455857,  6.15642576],\n",
       "       [ 1.72641901,  3.6267974 ,  0.59148622, -0.26451809],\n",
       "       [-2.06412635, -6.08413463, -0.44745193, -3.13767585],\n",
       "       [-4.69113161, -4.51516743,  5.91427884,  5.73953788],\n",
       "       [ 1.74380459,  2.44623752,  3.27691572, -0.3571113 ],\n",
       "       [ 6.12646563,  0.50890813, -1.21132572,  5.17987451],\n",
       "       [-1.17423274,  1.79060009,  1.2515015 ,  3.48182317],\n",
       "       [ 3.81218542,  7.40665645, -0.51113459,  2.14262942],\n",
       "       [-1.41607663,  2.74526634, -1.52013574, -0.28652142],\n",
       "       [ 1.30907054, -7.62163233,  3.52668867, -3.72018168],\n",
       "       [-1.26789652,  2.27007215,  1.7259635 , -1.47261492],\n",
       "       [ 4.73263058,  1.96859701, -1.58130093,  1.88762929],\n",
       "       [ 3.99094117,  5.12239121,  4.73818298,  5.55854587]])"
      ]
     },
     "execution_count": 10,
     "metadata": {},
     "output_type": "execute_result"
    }
   ],
   "source": [
    "oringin_data"
   ]
  },
  {
   "attachments": {},
   "cell_type": "markdown",
   "metadata": {},
   "source": [
    "### Data normalization and inverse normalization  using sklearn. [0,1]"
   ]
  },
  {
   "cell_type": "code",
   "execution_count": 11,
   "metadata": {},
   "outputs": [],
   "source": [
    "mm = MinMaxScaler()# 创建MinMaxScaler 对象\n",
    "mm_data = mm.fit_transform(data) # 归一化数据\n",
    "origin_data = mm.inverse_transform(mm_data)"
   ]
  },
  {
   "cell_type": "code",
   "execution_count": 12,
   "metadata": {},
   "outputs": [
    {
     "data": {
      "text/plain": [
       "array([[0.86031367, 0.80080407, 0.20500443, 0.48731347],\n",
       "       [0.60792615, 0.32555725, 0.24422581, 0.41168615],\n",
       "       [0.5822057 , 0.33043877, 0.44159083, 0.24863397],\n",
       "       [0.3426702 , 0.20765759, 0.73674961, 0.56778981],\n",
       "       [0.66775358, 0.82354059, 0.6176877 , 0.29218426],\n",
       "       [0.16913567, 0.8968851 , 0.61022565, 0.40944995],\n",
       "       [0.89663145, 0.64871295, 0.58804447, 0.24552469],\n",
       "       [0.60283863, 0.70913152, 0.41006794, 0.58635181],\n",
       "       [0.23776745, 0.46355364, 0.30295318, 0.42325948],\n",
       "       [0.33257092, 0.68421695, 0.15713856, 0.28190389],\n",
       "       [0.35007228, 0.6610579 , 0.26310068, 0.17233494],\n",
       "       [0.46357681, 0.39870908, 0.66384855, 0.19791347],\n",
       "       [0.5027109 , 0.54084686, 1.        , 0.93585525],\n",
       "       [0.69339417, 0.41119207, 0.        , 0.44874151],\n",
       "       [0.73090799, 0.45832233, 0.35969706, 0.34508126],\n",
       "       [0.33484407, 0.74387287, 0.61136775, 1.        ],\n",
       "       [0.4420803 , 0.38879978, 0.41200633, 0.58675022],\n",
       "       [0.66125968, 0.6180764 , 0.60587054, 0.92221396],\n",
       "       [0.59325102, 0.74848374, 0.28346722, 0.3226676 ],\n",
       "       [0.24284554, 0.1023069 , 0.20526236, 0.05439064],\n",
       "       [0.        , 0.20670783, 0.68413428, 0.88328765],\n",
       "       [0.59485818, 0.66992789, 0.48560982, 0.31402184],\n",
       "       [1.        , 0.54101572, 0.14776264, 0.8310299 ],\n",
       "       [0.32510906, 0.62630101, 0.33314911, 0.6724768 ],\n",
       "       [0.78606338, 1.        , 0.20046872, 0.54743152],\n",
       "       [0.30275253, 0.68982562, 0.12451732, 0.32061307],\n",
       "       [0.55467051, 0.        , 0.50441119, 0.        ],\n",
       "       [0.3164506 , 0.65820564, 0.36886369, 0.2098633 ],\n",
       "       [0.87115114, 0.63814513, 0.11991318, 0.52362125],\n",
       "       [0.80258791, 0.84800231, 0.59560503, 0.86638779]])"
      ]
     },
     "execution_count": 12,
     "metadata": {},
     "output_type": "execute_result"
    }
   ],
   "source": [
    "mm_data"
   ]
  },
  {
   "attachments": {},
   "cell_type": "markdown",
   "metadata": {},
   "source": [
    "## Encoding the Categorical variables"
   ]
  },
  {
   "attachments": {},
   "cell_type": "markdown",
   "metadata": {},
   "source": [
    "Categorical variables means that data which shows categories or some memberships. Mostly this data can be in the form of string or characters. But all machine learning models works on only numerical data, so that's why we have to encode these variables in numerical format.\n",
    "\n",
    "There are several methods for encoding categorical variables.\n",
    "we will discuss get_dummies method from pandas library.\n",
    "This method creates dummy variables for categorical data. Basically it converts categorical data into 0/1 on the basis of categories from that column."
   ]
  },
  {
   "cell_type": "code",
   "execution_count": 28,
   "metadata": {},
   "outputs": [],
   "source": [
    "import pandas as pd\n"
   ]
  },
  {
   "cell_type": "code",
   "execution_count": 29,
   "metadata": {},
   "outputs": [
    {
     "name": "stdout",
     "output_type": "stream",
     "text": [
      "   a  b  c\n",
      "0  1  0  0\n",
      "1  0  1  0\n",
      "2  0  0  1\n",
      "3  1  0  0\n"
     ]
    }
   ],
   "source": [
    "s = pd.Series(list('abca'))\n",
    "print(pd.get_dummies(s))"
   ]
  },
  {
   "cell_type": "code",
   "execution_count": 30,
   "metadata": {},
   "outputs": [
    {
     "name": "stdout",
     "output_type": "stream",
     "text": [
      "   a  b\n",
      "0  1  0\n",
      "1  0  1\n",
      "2  0  0\n"
     ]
    }
   ],
   "source": [
    "s1 = ['a', 'b', np.nan]\n",
    "print(pd.get_dummies(s1))"
   ]
  },
  {
   "cell_type": "code",
   "execution_count": 31,
   "metadata": {},
   "outputs": [
    {
     "name": "stdout",
     "output_type": "stream",
     "text": [
      "   a  b  NaN\n",
      "0  1  0    0\n",
      "1  0  1    0\n",
      "2  0  0    1\n"
     ]
    }
   ],
   "source": [
    "print(pd.get_dummies(s1, dummy_na=True))"
   ]
  },
  {
   "cell_type": "code",
   "execution_count": 32,
   "metadata": {},
   "outputs": [
    {
     "name": "stdout",
     "output_type": "stream",
     "text": [
      "   A  B  C\n",
      "0  a  b  1\n",
      "1  b  a  2\n",
      "2  a  c  3\n"
     ]
    }
   ],
   "source": [
    "df = pd.DataFrame({'A': ['a', 'b', 'a'], 'B': ['b', 'a', 'c'],\n",
    "                   'C': [1, 2, 3]})\n",
    "print(df)"
   ]
  },
  {
   "cell_type": "code",
   "execution_count": 33,
   "metadata": {},
   "outputs": [
    {
     "name": "stdout",
     "output_type": "stream",
     "text": [
      "   C  A_a  A_b  B_a  B_b  B_c\n",
      "0  1    1    0    0    1    0\n",
      "1  2    0    1    1    0    0\n",
      "2  3    1    0    0    0    1\n"
     ]
    }
   ],
   "source": [
    "print(pd.get_dummies(df))"
   ]
  },
  {
   "cell_type": "code",
   "execution_count": null,
   "metadata": {},
   "outputs": [],
   "source": []
  },
  {
   "cell_type": "code",
   "execution_count": null,
   "metadata": {},
   "outputs": [],
   "source": []
  },
  {
   "cell_type": "code",
   "execution_count": 25,
   "metadata": {},
   "outputs": [
    {
     "data": {
      "text/html": [
       "<div>\n",
       "<style scoped>\n",
       "    .dataframe tbody tr th:only-of-type {\n",
       "        vertical-align: middle;\n",
       "    }\n",
       "\n",
       "    .dataframe tbody tr th {\n",
       "        vertical-align: top;\n",
       "    }\n",
       "\n",
       "    .dataframe thead th {\n",
       "        text-align: right;\n",
       "    }\n",
       "</style>\n",
       "<table border=\"1\" class=\"dataframe\">\n",
       "  <thead>\n",
       "    <tr style=\"text-align: right;\">\n",
       "      <th></th>\n",
       "      <th>a</th>\n",
       "      <th>b</th>\n",
       "      <th>c</th>\n",
       "    </tr>\n",
       "  </thead>\n",
       "  <tbody>\n",
       "    <tr>\n",
       "      <th>0</th>\n",
       "      <td>1</td>\n",
       "      <td>0</td>\n",
       "      <td>0</td>\n",
       "    </tr>\n",
       "    <tr>\n",
       "      <th>1</th>\n",
       "      <td>0</td>\n",
       "      <td>1</td>\n",
       "      <td>0</td>\n",
       "    </tr>\n",
       "    <tr>\n",
       "      <th>2</th>\n",
       "      <td>0</td>\n",
       "      <td>0</td>\n",
       "      <td>1</td>\n",
       "    </tr>\n",
       "    <tr>\n",
       "      <th>3</th>\n",
       "      <td>1</td>\n",
       "      <td>0</td>\n",
       "      <td>0</td>\n",
       "    </tr>\n",
       "    <tr>\n",
       "      <th>4</th>\n",
       "      <td>1</td>\n",
       "      <td>0</td>\n",
       "      <td>0</td>\n",
       "    </tr>\n",
       "  </tbody>\n",
       "</table>\n",
       "</div>"
      ],
      "text/plain": [
       "   a  b  c\n",
       "0  1  0  0\n",
       "1  0  1  0\n",
       "2  0  0  1\n",
       "3  1  0  0\n",
       "4  1  0  0"
      ]
     },
     "execution_count": 25,
     "metadata": {},
     "output_type": "execute_result"
    }
   ],
   "source": [
    "pd.get_dummies(pd.Series(list('abcaa')))\n"
   ]
  },
  {
   "cell_type": "code",
   "execution_count": 26,
   "metadata": {},
   "outputs": [
    {
     "data": {
      "text/html": [
       "<div>\n",
       "<style scoped>\n",
       "    .dataframe tbody tr th:only-of-type {\n",
       "        vertical-align: middle;\n",
       "    }\n",
       "\n",
       "    .dataframe tbody tr th {\n",
       "        vertical-align: top;\n",
       "    }\n",
       "\n",
       "    .dataframe thead th {\n",
       "        text-align: right;\n",
       "    }\n",
       "</style>\n",
       "<table border=\"1\" class=\"dataframe\">\n",
       "  <thead>\n",
       "    <tr style=\"text-align: right;\">\n",
       "      <th></th>\n",
       "      <th>b</th>\n",
       "      <th>c</th>\n",
       "    </tr>\n",
       "  </thead>\n",
       "  <tbody>\n",
       "    <tr>\n",
       "      <th>0</th>\n",
       "      <td>0</td>\n",
       "      <td>0</td>\n",
       "    </tr>\n",
       "    <tr>\n",
       "      <th>1</th>\n",
       "      <td>1</td>\n",
       "      <td>0</td>\n",
       "    </tr>\n",
       "    <tr>\n",
       "      <th>2</th>\n",
       "      <td>0</td>\n",
       "      <td>1</td>\n",
       "    </tr>\n",
       "    <tr>\n",
       "      <th>3</th>\n",
       "      <td>0</td>\n",
       "      <td>0</td>\n",
       "    </tr>\n",
       "    <tr>\n",
       "      <th>4</th>\n",
       "      <td>0</td>\n",
       "      <td>0</td>\n",
       "    </tr>\n",
       "  </tbody>\n",
       "</table>\n",
       "</div>"
      ],
      "text/plain": [
       "   b  c\n",
       "0  0  0\n",
       "1  1  0\n",
       "2  0  1\n",
       "3  0  0\n",
       "4  0  0"
      ]
     },
     "execution_count": 26,
     "metadata": {},
     "output_type": "execute_result"
    }
   ],
   "source": [
    "pd.get_dummies(pd.Series(list('abcaa')), drop_first=True)"
   ]
  },
  {
   "cell_type": "code",
   "execution_count": 27,
   "metadata": {},
   "outputs": [
    {
     "data": {
      "text/html": [
       "<div>\n",
       "<style scoped>\n",
       "    .dataframe tbody tr th:only-of-type {\n",
       "        vertical-align: middle;\n",
       "    }\n",
       "\n",
       "    .dataframe tbody tr th {\n",
       "        vertical-align: top;\n",
       "    }\n",
       "\n",
       "    .dataframe thead th {\n",
       "        text-align: right;\n",
       "    }\n",
       "</style>\n",
       "<table border=\"1\" class=\"dataframe\">\n",
       "  <thead>\n",
       "    <tr style=\"text-align: right;\">\n",
       "      <th></th>\n",
       "      <th>a</th>\n",
       "      <th>b</th>\n",
       "      <th>c</th>\n",
       "    </tr>\n",
       "  </thead>\n",
       "  <tbody>\n",
       "    <tr>\n",
       "      <th>0</th>\n",
       "      <td>1.0</td>\n",
       "      <td>0.0</td>\n",
       "      <td>0.0</td>\n",
       "    </tr>\n",
       "    <tr>\n",
       "      <th>1</th>\n",
       "      <td>0.0</td>\n",
       "      <td>1.0</td>\n",
       "      <td>0.0</td>\n",
       "    </tr>\n",
       "    <tr>\n",
       "      <th>2</th>\n",
       "      <td>0.0</td>\n",
       "      <td>0.0</td>\n",
       "      <td>1.0</td>\n",
       "    </tr>\n",
       "  </tbody>\n",
       "</table>\n",
       "</div>"
      ],
      "text/plain": [
       "     a    b    c\n",
       "0  1.0  0.0  0.0\n",
       "1  0.0  1.0  0.0\n",
       "2  0.0  0.0  1.0"
      ]
     },
     "execution_count": 27,
     "metadata": {},
     "output_type": "execute_result"
    }
   ],
   "source": [
    "pd.get_dummies(pd.Series(list('abc')), dtype=float)"
   ]
  },
  {
   "cell_type": "code",
   "execution_count": null,
   "metadata": {},
   "outputs": [],
   "source": []
  }
 ],
 "metadata": {
  "kernelspec": {
   "display_name": "tf2",
   "language": "python",
   "name": "python3"
  },
  "language_info": {
   "codemirror_mode": {
    "name": "ipython",
    "version": 3
   },
   "file_extension": ".py",
   "mimetype": "text/x-python",
   "name": "python",
   "nbconvert_exporter": "python",
   "pygments_lexer": "ipython3",
   "version": "3.10.9"
  },
  "orig_nbformat": 4
 },
 "nbformat": 4,
 "nbformat_minor": 2
}
